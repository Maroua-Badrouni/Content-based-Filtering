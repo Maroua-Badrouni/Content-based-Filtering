pip install sklearn
import pandas as pd 
import numpy as np
import random

movies_dataset=pd.read_csv('movies.csv')
ratings_dataset=pd.read_csv('ratings.csv')

print(movies_dataset.shape )
print(ratings_dataset.shape )
movies_dataset.head(5)
ratings_dataset.head(5)

movies_dataset['new'] = movies_dataset.genres.str.split('|')
movies_dataset['new']

movies_dataset['year'] = movies_dataset.title.str.extract('(\(\d\d\d\d\))',expand=False)
movies_dataset['year'] = movies_dataset.year.str.extract('(\d\d\d\d)',expand=False)
movies_dataset['movie_name']= movies_dataset.title.str.replace(' (\(\d\d\d\d\))', '', regex=True)
movies_dataset['new']=movies_dataset['new'].apply(' '.join)
from sklearn.feature_extraction.text import TfidfVectorizer
tfid=TfidfVectorizer(stop_words='english')
matrix=tfid.fit_transform(movies_dataset['new'])
#Compute the cosine similarity of every genre
from sklearn.metrics.pairwise import cosine_similarity
cosine_sim=cosine_similarity(matrix,matrix)
#Movie name and movie id 
movies_dataset = movies_dataset.reset_index()
titles = movies_dataset['movie_name']
indices = pd.Series(movies_dataset.index, index=movies_dataset['movie_name'])
movies_dataset.head(2)
def recommendataion(movie):
    result=[]
    ind=indices[movie]
    sim_scores=list(enumerate(cosine_sim[ind]))
    sim_scores=sorted(sim_scores,key=lambda x:x[1],reverse=True)    
    movie_id=[i[0] for i in sim_scores]    
    print('The Movie You Should Watched Next Are --')
    print('ID ,   Name ,  Average Ratings , Year ')
    count=0
    for id in range(0,len(movie_id)):
        if(ind != movie_id[id]):
            ratings=ratings_dataset[ratings_dataset['movieId']==movie_id[id]]['rating']
            avg_ratings=round(np.mean(ratings),2)
            if(avg_ratings >3.5):
                count+=1
                print(f'{movie_id[id]} , {titles[movie_id[id]]} ,{avg_ratings}')
                result.append([titles[movie_id[id]],str(avg_ratings)])
            if(count >=10):
                    break
    
    print('Wait!! i am telling your recommendation')
    return result

query_index = np.random.choice(movies_dataset.movie_name)

result=recommendataion(query_index)
print(query_index)
